{
 "cells": [
  {
   "cell_type": "markdown",
   "id": "483e7968",
   "metadata": {},
   "source": [
    "# Projeto Final  \n",
    "## Avaliação de inscritos neurodivergentes no Enem - 2019\n",
    "## Curso de Big Data Science \n",
    "\n",
    "**Autor** : Maria Fisher\n",
    "\n"
   ]
  },
  {
   "cell_type": "markdown",
   "id": "57b80837",
   "metadata": {},
   "source": [
    "# Introdução "
   ]
  },
  {
   "cell_type": "markdown",
   "id": "9b2b02d4",
   "metadata": {},
   "source": [
    "Dados do IBGE mostraram que em 2019, apenas 16,6% da população brasileira com deficiência possuía ensino médio completo. Segundo, dados do IBGE (2010), teve um aumento significativo na inclusão de estudantes especiais com 640% das matrículas em escolas comuns e de 28% em escolas e classes especiais no período de 1998-2006. \n",
    "\n",
    "Em 2018, o número de estudantes matriculados portadores de deficiência teve um aumento de 0,04% em 2017 para 0,06% em 2018 do total de matriculados. Em 2019, o  número de matrículas da educação especial chegou a 1,3 milhão, com aumento de 34,4% em relação a 2015 (Inep, 2020). Porém, penas 0,52% do total de matriculados em cursos de graduação do Ensino Superior são declarados com deficiência (Quero Bolsa, 2020). \n",
    "\n",
    "Esses dados mostram que apenas uma parcela pequena de pessoas com deficiência conseguem suporte adequado para continuar sua educação e portanto com menor oportunidade de tornar-se cidadão independente e mais produtivo na comunidade. \n",
    "\n",
    "Esse trabalho tem como objetivo avaliar a performance dos inscritos no Enem que se declaram neurodivergentes quanto ao desempenho nas notas e algumas variáveis sociais que os circundam. Considerou-se neurodivergentes aqueles que se declararam portador de: Autismo, Deficit de Atenção, Deficiência Mental, Dislexia, Discalculia. "
   ]
  },
  {
   "cell_type": "markdown",
   "id": "64f96b84",
   "metadata": {},
   "source": [
    "# Métodos"
   ]
  },
  {
   "cell_type": "markdown",
   "id": "f174f869",
   "metadata": {},
   "source": [
    "### Pre-processamento dos dados "
   ]
  },
  {
   "cell_type": "code",
   "execution_count": 29,
   "id": "f157940e",
   "metadata": {},
   "outputs": [],
   "source": [
    "import numpy as np\n",
    "import pandas as pd\n",
    "import statistics  as sts\n",
    "import matplotlib.pyplot as plt\n",
    "import seaborn as sns\n",
    "import missingno as msno\n",
    "from scipy.stats import pearsonr\n",
    "import zipfile\n",
    "import matplotlib.ticker as mtick\n",
    "import warnings \n",
    "warnings.filterwarnings(\"ignore\")\n"
   ]
  },
  {
   "cell_type": "code",
   "execution_count": null,
   "id": "4f55e7d9",
   "metadata": {
    "tags": [
     "hide_code"
    ]
   },
   "outputs": [],
   "source": [
    "colunas = ['CO_MUNICIPIO_RESIDENCIA','NO_MUNICIPIO_RESIDENCIA','SG_UF_RESIDENCIA','NU_IDADE', 'TP_SEXO','TP_COR_RACA',\n",
    "           'IN_DEFICIENCIA_MENTAL','IN_DEFICIT_ATENCAO','IN_DISLEXIA','IN_DISCALCULIA','IN_AUTISMO',\n",
    "           'NU_NOTA_CN','NU_NOTA_CH','NU_NOTA_LC','NU_NOTA_REDACAO','NU_NOTA_MT', 'Q001', 'Q002', 'Q024', 'Q025']\n"
   ]
  },
  {
   "cell_type": "code",
   "execution_count": null,
   "id": "dbe8e520",
   "metadata": {
    "tags": [
     "hide_code"
    ]
   },
   "outputs": [],
   "source": [
    "with zipfile.ZipFile('../ProjetoFinal/archive.zip') as z:\n",
    "    with z.open('DADOS/MICRODADOS_ENEM_2019.csv') as f:\n",
    "     %time enem_2019 = pd.read_csv(f, sep= ';', encoding='ISO-8859-1',usecols=colunas)\n",
    "           "
   ]
  },
  {
   "cell_type": "code",
   "execution_count": null,
   "id": "b1131952",
   "metadata": {
    "tags": [
     "hide_code"
    ]
   },
   "outputs": [],
   "source": [
    "enem_2019.head()"
   ]
  },
  {
   "cell_type": "code",
   "execution_count": null,
   "id": "a470ffac",
   "metadata": {
    "tags": [
     "hide_code"
    ]
   },
   "outputs": [],
   "source": [
    "# Verificar total numero de candidatos neurodivergentes\n",
    "neurodivergentes = enem_2019[['IN_DEFICIENCIA_MENTAL','IN_DEFICIT_ATENCAO','IN_DISLEXIA',\n",
    "                                      'IN_DISCALCULIA','IN_AUTISMO']]\n",
    "\n"
   ]
  },
  {
   "cell_type": "code",
   "execution_count": null,
   "id": "ee0ab86c",
   "metadata": {
    "tags": [
     "hide_code"
    ]
   },
   "outputs": [],
   "source": [
    "# Total numero de candidatos neurodivergentes\n",
    "neurodivergentes.sum()"
   ]
  },
  {
   "cell_type": "markdown",
   "id": "d5a2a42a",
   "metadata": {},
   "source": [
    "Numero de neurodivergentes participantes do Enem em 2019\n",
    "\n",
    "Deficiencia Mental  = 2248\n",
    "\n",
    "Deficit de atenção  = 8338\n",
    "\n",
    "Dislexia            = 1596\n",
    "\n",
    "Discalculia         = 382\n",
    "\n",
    "Autismo             = 1204"
   ]
  },
  {
   "cell_type": "markdown",
   "id": "3177e878",
   "metadata": {},
   "source": [
    "Para separar o dataset em Neurodivergentes e Normativos foi criado a função Neurodivergente onde para cada row (linha) que contém valor verdade (True = 1) retorna a condição Neurodivergente e caso seja falso (False = 0) retorna Normativo. O parametro da função é um Series object labelled \"row\". \n",
    "\n",
    "Depois, aplicou-se a função .apply() no dataset e na sequencia a coluna nova foi salva no dataset original. \n",
    "\n"
   ]
  },
  {
   "cell_type": "code",
   "execution_count": null,
   "id": "0bbe16ff",
   "metadata": {
    "tags": [
     "hide_code"
    ]
   },
   "outputs": [],
   "source": [
    "#\n",
    "def Neurodivergente (row):\n",
    "   if row['IN_DEFICIENCIA_MENTAL'] == 1 :\n",
    "      return 'Deficiente mental'\n",
    "   if row['IN_DEFICIT_ATENCAO'] == 1 :\n",
    "      return 'Deficit atenção'\n",
    "   if row['IN_DISLEXIA'] == 1 :\n",
    "      return 'Dislexia'\n",
    "   if row['IN_DISCALCULIA'] == 1:\n",
    "      return 'Discalculia'\n",
    "   if row['IN_AUTISMO']  == 1:\n",
    "      return 'Autismo'\n",
    "   return 'Normativo'\n"
   ]
  },
  {
   "cell_type": "code",
   "execution_count": null,
   "id": "994c9d73",
   "metadata": {
    "tags": [
     "hide_code"
    ]
   },
   "outputs": [],
   "source": [
    "enem_2019.apply (lambda row: Neurodivergente(row), axis=1)"
   ]
  },
  {
   "cell_type": "code",
   "execution_count": null,
   "id": "a67681e3",
   "metadata": {
    "tags": [
     "hide_code"
    ]
   },
   "outputs": [],
   "source": [
    "enem_2019['Neurodivergente'] = enem_2019.apply (lambda row: Neurodivergente(row), axis=1)"
   ]
  },
  {
   "cell_type": "code",
   "execution_count": null,
   "id": "255d287e",
   "metadata": {
    "tags": [
     "hide_code"
    ]
   },
   "outputs": [],
   "source": [
    "enem_2019.tail(10)"
   ]
  },
  {
   "cell_type": "code",
   "execution_count": null,
   "id": "8e54f0c8",
   "metadata": {
    "tags": [
     "hide_code"
    ]
   },
   "outputs": [],
   "source": [
    "# Mudar valores [nome da colunas, nomear classes, e valores booleanos]\n",
    "\n",
    "enem_2019['Código_Geográfico'] = enem_2019['CO_MUNICIPIO_RESIDENCIA']\n",
    "enem_2019['Município'] = enem_2019['NO_MUNICIPIO_RESIDENCIA']\n",
    "enem_2019['UF'] = enem_2019['SG_UF_RESIDENCIA']\n",
    "enem_2019['Cor_Raça'] = enem_2019['TP_COR_RACA'].replace([0, 1, 2, 3, 4, 5],['Não declarado','Branca','Preta', 'Parda', 'Amarela', 'Indígena'])\n",
    "enem_2019['Gênero'] = enem_2019['TP_SEXO']\n",
    "enem_2019['Idade'] = enem_2019['NU_IDADE']\n",
    "enem_2019['Escolaridade_Pai'] = enem_2019['Q001']\n",
    "enem_2019['Escolaridade_Mãe'] = enem_2019['Q002']\n",
    "enem_2019['Computador?'] = enem_2019['Q024'].replace(['A','B','C', 'D', 'E'],['Não','Sim(1)','Sim(2)', 'Sim(3)', 'Sim(4+)'])\n",
    "enem_2019['Acesso_Internet'] = enem_2019['Q025'].replace(['A','B'],['Não','Sim'])\n",
    "enem_2019['Redação'] = enem_2019['NU_NOTA_REDACAO']\n",
    "enem_2019['Ciências_Humanas'] = enem_2019['NU_NOTA_CH']\n",
    "enem_2019['Ciências_Naturais'] = enem_2019['NU_NOTA_CN']\n",
    "enem_2019['Matemática'] = enem_2019['NU_NOTA_MT']\n",
    "enem_2019['Linguagens_Códigos'] = enem_2019['NU_NOTA_LC']\n",
    "\n",
    "\n",
    "\n"
   ]
  },
  {
   "cell_type": "code",
   "execution_count": null,
   "id": "04b25665",
   "metadata": {
    "tags": [
     "hide_code"
    ]
   },
   "outputs": [],
   "source": [
    "enem_2019 = enem_2019.drop(columns=[ 'CO_MUNICIPIO_RESIDENCIA','NO_MUNICIPIO_RESIDENCIA','SG_UF_RESIDENCIA',\n",
    "                                    'NU_IDADE','TP_SEXO','TP_COR_RACA','IN_DEFICIENCIA_MENTAL',\n",
    "                                    'IN_DEFICIT_ATENCAO','IN_DISLEXIA','IN_DISCALCULIA','IN_AUTISMO',\n",
    "                                    'Q001','Q002','Q024','Q025','NU_NOTA_REDACAO',\n",
    "                                    'NU_NOTA_CH','NU_NOTA_CN','NU_NOTA_MT','NU_NOTA_LC'])"
   ]
  },
  {
   "cell_type": "code",
   "execution_count": null,
   "id": "b3477e06",
   "metadata": {
    "tags": [
     "hide_code"
    ]
   },
   "outputs": [],
   "source": [
    "enem_2019.head()"
   ]
  },
  {
   "cell_type": "code",
   "execution_count": null,
   "id": "9e31da45",
   "metadata": {
    "tags": [
     "hide_code"
    ]
   },
   "outputs": [],
   "source": [
    "#Resumo do dataframe\n",
    "\n",
    "def show_info(enem_2019):\n",
    "    print('DATASET SHAPE: ', enem_2019.shape, '\\n')\n",
    "    print('-'*50)\n",
    "    print('FEATURE DATA TYPES:')\n",
    "    print(enem_2019.info())\n",
    "    print('\\n', '-'*50)\n",
    "    print('NUMBER OF UNIQUE VALUES PER FEATURE:', '\\n')\n",
    "    print(enem_2019.nunique())\n",
    "    print('\\n', '-'*50)\n",
    "    print('NULL VALUES PER FEATURE')\n",
    "    print(enem_2019.isnull().sum())\n",
    "  \n",
    "show_info(enem_2019)"
   ]
  },
  {
   "cell_type": "code",
   "execution_count": null,
   "id": "f2607a72",
   "metadata": {
    "tags": [
     "hide_code"
    ]
   },
   "outputs": [],
   "source": [
    "enem_2019 = enem_2019.dropna()\n",
    "enem_2019 = enem_2019.reset_index(drop=True)"
   ]
  },
  {
   "cell_type": "code",
   "execution_count": null,
   "id": "b4c79d21",
   "metadata": {
    "tags": [
     "hide_code"
    ]
   },
   "outputs": [],
   "source": [
    "msno.bar(enem_2019)"
   ]
  },
  {
   "cell_type": "code",
   "execution_count": null,
   "id": "c04b8707",
   "metadata": {},
   "outputs": [],
   "source": [
    "enem_2019.to_csv (r'../ProjetoFinal/enem2019.csv', index = False, header=True)"
   ]
  },
  {
   "cell_type": "code",
   "execution_count": null,
   "id": "55b8642d",
   "metadata": {
    "tags": [
     "hide_code"
    ]
   },
   "outputs": [],
   "source": [
    "enem_2019.tail(10)"
   ]
  },
  {
   "cell_type": "markdown",
   "id": "bff9d05f",
   "metadata": {},
   "source": [
    "### Separar Normativos e Neurodivergentes em dois datasets"
   ]
  },
  {
   "cell_type": "code",
   "execution_count": null,
   "id": "92679b1e",
   "metadata": {
    "tags": [
     "hide_code"
    ]
   },
   "outputs": [],
   "source": [
    "normativo_enem2019 = enem_2019[enem_2019.Neurodivergente == 'Normativo']\n"
   ]
  },
  {
   "cell_type": "code",
   "execution_count": null,
   "id": "1930f2d3",
   "metadata": {
    "tags": [
     "hide_code"
    ]
   },
   "outputs": [],
   "source": [
    "normativo_enem2019.head()"
   ]
  },
  {
   "cell_type": "code",
   "execution_count": null,
   "id": "56fcd768",
   "metadata": {
    "tags": [
     "hide_code"
    ]
   },
   "outputs": [],
   "source": [
    "normativo_enem2019.to_csv (r'../ProjetoFinal/normativo_enem2019.csv', index = False, header=True)\n"
   ]
  },
  {
   "cell_type": "code",
   "execution_count": null,
   "id": "82fc3a14",
   "metadata": {
    "tags": [
     "hide_code"
    ]
   },
   "outputs": [],
   "source": [
    "neurodivergente_enem2019 = enem_2019[enem_2019.Neurodivergente != 'Normativo']"
   ]
  },
  {
   "cell_type": "code",
   "execution_count": null,
   "id": "78f8d4a7",
   "metadata": {
    "tags": [
     "hide_code"
    ]
   },
   "outputs": [],
   "source": [
    "neurodivergente_enem2019.head(10)"
   ]
  },
  {
   "cell_type": "code",
   "execution_count": null,
   "id": "5424fc46",
   "metadata": {
    "tags": [
     "hide_code"
    ]
   },
   "outputs": [],
   "source": [
    "neurodivergente_enem2019.to_csv (r'../ProjetoFinal/neurodivergente_enem2019.csv', index = False, header=True)\n"
   ]
  },
  {
   "cell_type": "markdown",
   "id": "7e40cb0b",
   "metadata": {},
   "source": [
    "# Análise Descritiva "
   ]
  },
  {
   "cell_type": "code",
   "execution_count": 15,
   "id": "1ea3cbeb",
   "metadata": {
    "tags": [
     "hide_code"
    ]
   },
   "outputs": [
    {
     "data": {
      "text/html": [
       "<div>\n",
       "<style scoped>\n",
       "    .dataframe tbody tr th:only-of-type {\n",
       "        vertical-align: middle;\n",
       "    }\n",
       "\n",
       "    .dataframe tbody tr th {\n",
       "        vertical-align: top;\n",
       "    }\n",
       "\n",
       "    .dataframe thead th {\n",
       "        text-align: right;\n",
       "    }\n",
       "</style>\n",
       "<table border=\"1\" class=\"dataframe\">\n",
       "  <thead>\n",
       "    <tr style=\"text-align: right;\">\n",
       "      <th></th>\n",
       "      <th>Neurodivergente</th>\n",
       "      <th>Código_Geográfico</th>\n",
       "      <th>Município</th>\n",
       "      <th>UF</th>\n",
       "      <th>Cor_Raça</th>\n",
       "      <th>Gênero</th>\n",
       "      <th>Idade</th>\n",
       "      <th>Escolaridade_Pai</th>\n",
       "      <th>Escolaridade_Mãe</th>\n",
       "      <th>Computador?</th>\n",
       "      <th>Acesso_Internet</th>\n",
       "      <th>Redação</th>\n",
       "      <th>Ciências_Humanas</th>\n",
       "      <th>Ciências_Naturais</th>\n",
       "      <th>Matemática</th>\n",
       "      <th>Linguagens_Códigos</th>\n",
       "    </tr>\n",
       "  </thead>\n",
       "  <tbody>\n",
       "    <tr>\n",
       "      <th>0</th>\n",
       "      <td>Normativo</td>\n",
       "      <td>1506807</td>\n",
       "      <td>Santarém</td>\n",
       "      <td>PA</td>\n",
       "      <td>Parda</td>\n",
       "      <td>M</td>\n",
       "      <td>21</td>\n",
       "      <td>D</td>\n",
       "      <td>E</td>\n",
       "      <td>Sim(1)</td>\n",
       "      <td>Não</td>\n",
       "      <td>780.0</td>\n",
       "      <td>466.0</td>\n",
       "      <td>472.9</td>\n",
       "      <td>369.1</td>\n",
       "      <td>497.3</td>\n",
       "    </tr>\n",
       "    <tr>\n",
       "      <th>1</th>\n",
       "      <td>Normativo</td>\n",
       "      <td>1504059</td>\n",
       "      <td>Mãe do Rio</td>\n",
       "      <td>PA</td>\n",
       "      <td>Parda</td>\n",
       "      <td>F</td>\n",
       "      <td>16</td>\n",
       "      <td>D</td>\n",
       "      <td>E</td>\n",
       "      <td>Não</td>\n",
       "      <td>Não</td>\n",
       "      <td>600.0</td>\n",
       "      <td>495.4</td>\n",
       "      <td>358.9</td>\n",
       "      <td>416.5</td>\n",
       "      <td>482.3</td>\n",
       "    </tr>\n",
       "    <tr>\n",
       "      <th>2</th>\n",
       "      <td>Normativo</td>\n",
       "      <td>1505502</td>\n",
       "      <td>Paragominas</td>\n",
       "      <td>PA</td>\n",
       "      <td>Branca</td>\n",
       "      <td>F</td>\n",
       "      <td>18</td>\n",
       "      <td>H</td>\n",
       "      <td>E</td>\n",
       "      <td>Sim(2)</td>\n",
       "      <td>Sim</td>\n",
       "      <td>640.0</td>\n",
       "      <td>538.7</td>\n",
       "      <td>574.2</td>\n",
       "      <td>571.5</td>\n",
       "      <td>582.6</td>\n",
       "    </tr>\n",
       "    <tr>\n",
       "      <th>3</th>\n",
       "      <td>Normativo</td>\n",
       "      <td>1500800</td>\n",
       "      <td>Ananindeua</td>\n",
       "      <td>PA</td>\n",
       "      <td>Branca</td>\n",
       "      <td>M</td>\n",
       "      <td>31</td>\n",
       "      <td>C</td>\n",
       "      <td>C</td>\n",
       "      <td>Não</td>\n",
       "      <td>Não</td>\n",
       "      <td>580.0</td>\n",
       "      <td>592.6</td>\n",
       "      <td>522.0</td>\n",
       "      <td>605.3</td>\n",
       "      <td>582.0</td>\n",
       "    </tr>\n",
       "    <tr>\n",
       "      <th>4</th>\n",
       "      <td>Normativo</td>\n",
       "      <td>1504208</td>\n",
       "      <td>Marabá</td>\n",
       "      <td>PA</td>\n",
       "      <td>Parda</td>\n",
       "      <td>F</td>\n",
       "      <td>30</td>\n",
       "      <td>B</td>\n",
       "      <td>B</td>\n",
       "      <td>Não</td>\n",
       "      <td>Sim</td>\n",
       "      <td>360.0</td>\n",
       "      <td>480.1</td>\n",
       "      <td>407.4</td>\n",
       "      <td>581.5</td>\n",
       "      <td>464.3</td>\n",
       "    </tr>\n",
       "  </tbody>\n",
       "</table>\n",
       "</div>"
      ],
      "text/plain": [
       "  Neurodivergente  Código_Geográfico    Município  UF Cor_Raça Gênero  Idade  \\\n",
       "0       Normativo            1506807     Santarém  PA    Parda      M     21   \n",
       "1       Normativo            1504059   Mãe do Rio  PA    Parda      F     16   \n",
       "2       Normativo            1505502  Paragominas  PA   Branca      F     18   \n",
       "3       Normativo            1500800   Ananindeua  PA   Branca      M     31   \n",
       "4       Normativo            1504208       Marabá  PA    Parda      F     30   \n",
       "\n",
       "  Escolaridade_Pai Escolaridade_Mãe Computador? Acesso_Internet  Redação  \\\n",
       "0                D                E      Sim(1)             Não    780.0   \n",
       "1                D                E         Não             Não    600.0   \n",
       "2                H                E      Sim(2)             Sim    640.0   \n",
       "3                C                C         Não             Não    580.0   \n",
       "4                B                B         Não             Sim    360.0   \n",
       "\n",
       "   Ciências_Humanas  Ciências_Naturais  Matemática  Linguagens_Códigos  \n",
       "0             466.0              472.9       369.1               497.3  \n",
       "1             495.4              358.9       416.5               482.3  \n",
       "2             538.7              574.2       571.5               582.6  \n",
       "3             592.6              522.0       605.3               582.0  \n",
       "4             480.1              407.4       581.5               464.3  "
      ]
     },
     "execution_count": 15,
     "metadata": {},
     "output_type": "execute_result"
    }
   ],
   "source": [
    "enem_2019 = pd.read_csv (r'../ProjetoFinal/enem2019.csv')\n",
    "enem_2019.head()\n"
   ]
  },
  {
   "cell_type": "code",
   "execution_count": 3,
   "id": "d606e8f0",
   "metadata": {
    "tags": [
     "hide_code"
    ]
   },
   "outputs": [
    {
     "data": {
      "text/plain": [
       "Neurodivergente  Código_Geográfico  Município      UF  Cor_Raça  Gênero  Idade  Escolaridade_Pai  Escolaridade_Mãe  Computador?  Acesso_Internet  Redação  Ciências_Humanas  Ciências_Naturais  Matemática  Linguagens_Códigos\n",
       "Autismo          1100106            Guajará-Mirim  RO  Parda     F       21     H                 E                 Não          Não              0.0      380.1             335.7              361.8       475.7                 1\n",
       "Normativo        3505708            Barueri        SP  Branca    M       27     E                 E                 Sim(1)       Sim              500.0    509.5             435.1              496.3       533.3                 1\n",
       "                                                                         35     D                 D                 Sim(2)       Sim              660.0    602.2             542.0              503.5       594.1                 1\n",
       "                                                                                E                 E                 Sim(2)       Sim              580.0    567.7             450.6              415.6       357.5                 1\n",
       "                                                                                G                 G                 Sim(1)       Sim              700.0    631.1             565.9              780.3       574.3                 1\n",
       "                                                                                                                                                                                                                                 ..\n",
       "                 2611101            Petrolina      PE  Branca    M       17     G                 G                 Sim(1)       Sim              720.0    589.5             551.5              472.8       562.3                 1\n",
       "                                                                                                                                                           689.6             595.7              944.5       655.5                 1\n",
       "                                                                                                                                                  800.0    624.3             574.1              702.4       608.0                 1\n",
       "                                                                                                                    Sim(2)       Sim              620.0    501.1             572.1              623.4       498.5                 1\n",
       "                 5300108            Brasília       DF  Preta     M       72     A                 A                 Não          Sim              500.0    481.8             484.8              398.8       540.1                 1\n",
       "Length: 3702007, dtype: int64"
      ]
     },
     "execution_count": 3,
     "metadata": {},
     "output_type": "execute_result"
    }
   ],
   "source": [
    "enem_2019.value_counts()"
   ]
  },
  {
   "cell_type": "markdown",
   "id": "1240eafd",
   "metadata": {},
   "source": [
    "### Porcentagens para cada neurotipo\n",
    "As porcentagens de inscritos no Enem declarados neurodivergentes são pequenas, sendo assim dividimos o dataset em normativos e neurodivergentes para as analises descritivas."
   ]
  },
  {
   "cell_type": "code",
   "execution_count": 123,
   "id": "a42e048b",
   "metadata": {},
   "outputs": [
    {
     "data": {
      "text/plain": [
       "Normativo            99.731416\n",
       "Deficit atenção       0.182928\n",
       "Deficiente mental     0.044192\n",
       "Autismo               0.020691\n",
       "Dislexia              0.018990\n",
       "Discalculia           0.001783\n",
       "Name: Neurodivergente, dtype: float64"
      ]
     },
     "execution_count": 123,
     "metadata": {},
     "output_type": "execute_result"
    }
   ],
   "source": [
    "frequencia = enem_2019['Neurodivergente'].value_counts()\n",
    "percentual = enem_2019['Neurodivergente'].value_counts(normalize = True)*100\n",
    "percentual"
   ]
  },
  {
   "cell_type": "code",
   "execution_count": 118,
   "id": "4afc33f2",
   "metadata": {},
   "outputs": [
    {
     "data": {
      "text/html": [
       "<div>\n",
       "<style scoped>\n",
       "    .dataframe tbody tr th:only-of-type {\n",
       "        vertical-align: middle;\n",
       "    }\n",
       "\n",
       "    .dataframe tbody tr th {\n",
       "        vertical-align: top;\n",
       "    }\n",
       "\n",
       "    .dataframe thead th {\n",
       "        text-align: right;\n",
       "    }\n",
       "</style>\n",
       "<table border=\"1\" class=\"dataframe\">\n",
       "  <thead>\n",
       "    <tr style=\"text-align: right;\">\n",
       "      <th></th>\n",
       "      <th>Frequência</th>\n",
       "      <th>Porcentagem(%)</th>\n",
       "    </tr>\n",
       "  </thead>\n",
       "  <tbody>\n",
       "    <tr>\n",
       "      <th>Normativo</th>\n",
       "      <td>3692064</td>\n",
       "      <td>99.731416</td>\n",
       "    </tr>\n",
       "    <tr>\n",
       "      <th>Deficit atenção</th>\n",
       "      <td>6772</td>\n",
       "      <td>0.182928</td>\n",
       "    </tr>\n",
       "    <tr>\n",
       "      <th>Deficiente mental</th>\n",
       "      <td>1636</td>\n",
       "      <td>0.044192</td>\n",
       "    </tr>\n",
       "    <tr>\n",
       "      <th>Autismo</th>\n",
       "      <td>766</td>\n",
       "      <td>0.020691</td>\n",
       "    </tr>\n",
       "    <tr>\n",
       "      <th>Dislexia</th>\n",
       "      <td>703</td>\n",
       "      <td>0.018990</td>\n",
       "    </tr>\n",
       "    <tr>\n",
       "      <th>Discalculia</th>\n",
       "      <td>66</td>\n",
       "      <td>0.001783</td>\n",
       "    </tr>\n",
       "  </tbody>\n",
       "</table>\n",
       "</div>"
      ],
      "text/plain": [
       "                   Frequência  Porcentagem(%)\n",
       "Normativo             3692064       99.731416\n",
       "Deficit atenção          6772        0.182928\n",
       "Deficiente mental        1636        0.044192\n",
       "Autismo                   766        0.020691\n",
       "Dislexia                  703        0.018990\n",
       "Discalculia                66        0.001783"
      ]
     },
     "execution_count": 118,
     "metadata": {},
     "output_type": "execute_result"
    }
   ],
   "source": [
    "freq_neurodivergente = pd.DataFrame({'Frequência': frequencia,'Porcentagem(%)': percentual})\n",
    "freq_neurodivergente"
   ]
  },
  {
   "cell_type": "code",
   "execution_count": 119,
   "id": "79078f74",
   "metadata": {},
   "outputs": [
    {
     "data": {
      "text/html": [
       "<div>\n",
       "<style scoped>\n",
       "    .dataframe tbody tr th:only-of-type {\n",
       "        vertical-align: middle;\n",
       "    }\n",
       "\n",
       "    .dataframe tbody tr th {\n",
       "        vertical-align: top;\n",
       "    }\n",
       "\n",
       "    .dataframe thead th {\n",
       "        text-align: right;\n",
       "    }\n",
       "</style>\n",
       "<table border=\"1\" class=\"dataframe\">\n",
       "  <thead>\n",
       "    <tr style=\"text-align: right;\">\n",
       "      <th>Neurodivergente</th>\n",
       "      <th>Frequência</th>\n",
       "      <th>Porcentagem(%)</th>\n",
       "    </tr>\n",
       "  </thead>\n",
       "  <tbody>\n",
       "    <tr>\n",
       "      <th>Normativo</th>\n",
       "      <td>3692064</td>\n",
       "      <td>99.731416</td>\n",
       "    </tr>\n",
       "    <tr>\n",
       "      <th>Deficit atenção</th>\n",
       "      <td>6772</td>\n",
       "      <td>0.182928</td>\n",
       "    </tr>\n",
       "    <tr>\n",
       "      <th>Deficiente mental</th>\n",
       "      <td>1636</td>\n",
       "      <td>0.044192</td>\n",
       "    </tr>\n",
       "    <tr>\n",
       "      <th>Autismo</th>\n",
       "      <td>766</td>\n",
       "      <td>0.020691</td>\n",
       "    </tr>\n",
       "    <tr>\n",
       "      <th>Dislexia</th>\n",
       "      <td>703</td>\n",
       "      <td>0.018990</td>\n",
       "    </tr>\n",
       "    <tr>\n",
       "      <th>Discalculia</th>\n",
       "      <td>66</td>\n",
       "      <td>0.001783</td>\n",
       "    </tr>\n",
       "  </tbody>\n",
       "</table>\n",
       "</div>"
      ],
      "text/plain": [
       "Neurodivergente    Frequência  Porcentagem(%)\n",
       "Normativo             3692064       99.731416\n",
       "Deficit atenção          6772        0.182928\n",
       "Deficiente mental        1636        0.044192\n",
       "Autismo                   766        0.020691\n",
       "Dislexia                  703        0.018990\n",
       "Discalculia                66        0.001783"
      ]
     },
     "execution_count": 119,
     "metadata": {},
     "output_type": "execute_result"
    }
   ],
   "source": [
    "freq_neurodivergente.rename_axis('Neurodivergente', axis = 'columns', inplace = True)\n",
    "freq_neurodivergente"
   ]
  },
  {
   "cell_type": "code",
   "execution_count": 148,
   "id": "4690a8a5",
   "metadata": {},
   "outputs": [
    {
     "name": "stdout",
     "output_type": "stream",
     "text": [
      "                   Porcentagem(%)\n",
      "Deficit atenção          0.182928\n",
      "Deficiente mental        0.044192\n",
      "Autismo                  0.020691\n",
      "Dislexia                 0.018990\n",
      "Discalculia              0.001783\n"
     ]
    }
   ],
   "source": [
    "freq_neurodivergente = {'Porcentagem(%)': [0.182928,0.044192,0.020691,0.018990,0.001783]}\n",
    "df = pd.DataFrame(freq_neurodivergente,columns=['Porcentagem(%)'],index = [['Deficit atenção', 'Deficiente mental', 'Autismo', 'Dislexia','Discalculia']])\n",
    "\n",
    "print (df)"
   ]
  },
  {
   "cell_type": "code",
   "execution_count": 181,
   "id": "f8417e84",
   "metadata": {},
   "outputs": [
    {
     "data": {
      "image/png": "[encoded data removed]",
      "text/plain": [
       "<Figure size 432x360 with 1 Axes>"
      ]
     },
     "metadata": {
      "needs_background": "light"
     },
     "output_type": "display_data"
    }
   ],
   "source": [
    "\n",
    "ax = df.plot.bar(y='Porcentagem(%)',figsize=(6,5))\n",
    "plt.title('Porcentagem de Neurodivergentes Enem 2019', fontsize=22)\n",
    "plt.xlabel(\"Neurodivergentes\", fontsize=15, )\n",
    "plt.ylabel(\"Percentagem para cada Neurotipo\",  fontsize=15)\n",
    "          \n",
    "plt.show()"
   ]
  },
  {
   "cell_type": "markdown",
   "id": "9ad1e13c",
   "metadata": {},
   "source": [
    "## Inscritos no Enem 2019 Neuronormativos"
   ]
  },
  {
   "cell_type": "code",
   "execution_count": null,
   "id": "1117e6f9",
   "metadata": {
    "scrolled": true
   },
   "outputs": [],
   "source": [
    "normativo_enem2019 = pd.read_csv (r'../ProjetoFinal/normativo_enem2019.csv')\n",
    "normativo_enem2019.head()"
   ]
  },
  {
   "cell_type": "code",
   "execution_count": null,
   "id": "e8b2806b",
   "metadata": {
    "tags": [
     "hide_code"
    ]
   },
   "outputs": [],
   "source": [
    "# Cálculos da média e desvio padrão para os normativos\n",
    "Idade = sts.stdev(normativo_enem2019['Idade'])/sts.mean(normativo_enem2019['Idade'])\n",
    "Ciências_Naturais = sts.stdev(normativo_enem2019['Ciências_Naturais'])/sts.mean(normativo_enem2019['Ciências_Naturais'])\n",
    "Ciências_Humanas = sts.stdev(normativo_enem2019['Ciências_Humanas'])/sts.mean(normativo_enem2019['Ciências_Humanas'])\n",
    "Linguagens_Códigos = sts.stdev(normativo_enem2019['Linguagens_Códigos'])/sts.mean(normativo_enem2019['Linguagens_Códigos'])\n",
    "Matemática = sts.stdev(normativo_enem2019['Matemática'])/sts.mean(normativo_enem2019['Matemática'])\n",
    "Redação = sts.stdev(normativo_enem2019['Redação'])/sts.mean(normativo_enem2019['Redação'])\n",
    "\n",
    "print('Idade: \\n',round(Idade,2))\n",
    "print('Ciências_Naturais: \\n',round(Ciências_Naturais,2))\n",
    "print('Ciências_Humanas : \\n',round(Ciências_Humanas,2))\n",
    "print('Linguagens_Códigos: \\n',round(Linguagens_Códigos,2))\n",
    "print('Matemática : \\n',round(Matemática,2))\n",
    "print('Redação: \\n',round(Redação,2))"
   ]
  },
  {
   "cell_type": "code",
   "execution_count": null,
   "id": "85f75c21",
   "metadata": {
    "tags": [
     "hide_code"
    ]
   },
   "outputs": [],
   "source": [
    "# Selecionar colunas com dados numericos\n",
    "normativo_numerical = ['Idade', 'Ciências_Naturais', 'Ciências_Humanas','Linguagens_Códigos','Matemática','Redação']\n"
   ]
  },
  {
   "cell_type": "code",
   "execution_count": null,
   "id": "5868c0dd",
   "metadata": {
    "tags": [
     "hide_code"
    ]
   },
   "outputs": [],
   "source": [
    "# Descrição estatística das variaveis numericas\n",
    "normativo_enem2019[normativo_numerical].describe().round(2).T"
   ]
  },
  {
   "cell_type": "code",
   "execution_count": null,
   "id": "8718760d",
   "metadata": {
    "tags": [
     "hide_code"
    ]
   },
   "outputs": [],
   "source": [
    "va_quantitativa = ['float64', 'int64']\n",
    "quantitativas = list(normativo_enem2019.select_dtypes(include=va_quantitativa).columns)\n",
    "quantitativas"
   ]
  },
  {
   "cell_type": "code",
   "execution_count": null,
   "id": "6296e665",
   "metadata": {
    "tags": [
     "hide_code"
    ]
   },
   "outputs": [],
   "source": [
    "# Selecionar colunas numericas para elaboração de gráficos \n",
    "normativo_quantitativas = ['Idade', 'Ciências_Naturais', 'Ciências_Humanas','Linguagens_Códigos','Matemática','Redação']\n"
   ]
  },
  {
   "cell_type": "code",
   "execution_count": null,
   "id": "f1c915d3",
   "metadata": {
    "tags": [
     "hide_code"
    ]
   },
   "outputs": [],
   "source": [
    "normativo_enem2019_quanti = normativo_enem2019[normativo_quantitativas]\n",
    "normativo_enem2019_quanti.head()"
   ]
  },
  {
   "cell_type": "code",
   "execution_count": null,
   "id": "ce086dd7",
   "metadata": {},
   "outputs": [],
   "source": [
    "normativo_enem2019_quanti[['Idade','Ciências_Naturais','Ciências_Humanas','Linguagens_Códigos','Matemática','Redação']].hist(\n",
    "    bins=10,\n",
    "    figsize=(10, 8),\n",
    "    grid = False,\n",
    "    rwidth = 0.9,\n",
    ")\n",
    "plt.show()"
   ]
  },
  {
   "cell_type": "markdown",
   "id": "fd41910d",
   "metadata": {},
   "source": [
    "A análise das variaveis númericas mostram que a média das notas dos inscritos normativos não tiveram alta performance. Em todas as disciplinas a média ficou em torno de 500.     "
   ]
  },
  {
   "cell_type": "code",
   "execution_count": null,
   "id": "baa63a2f",
   "metadata": {
    "tags": [
     "hide_code"
    ]
   },
   "outputs": [],
   "source": [
    "va_nominal = ['object', 'bool']\n",
    "qualitativas = list(normativo_enem2019.select_dtypes(include=va_nominal).columns)\n",
    "qualitativas"
   ]
  },
  {
   "cell_type": "code",
   "execution_count": null,
   "id": "16df426c",
   "metadata": {
    "tags": [
     "hide_code"
    ]
   },
   "outputs": [],
   "source": [
    "# Selecionar colunas com dados categoricos\n",
    "normativo_nominal = ['UF','Cor_Raça', 'Gênero','Escolaridade_Pai','Escolaridade_Mãe','Computador?', 'Acesso_Internet', 'Neurodivergente',]\n"
   ]
  },
  {
   "cell_type": "code",
   "execution_count": null,
   "id": "0769a352",
   "metadata": {
    "tags": [
     "hide_code"
    ]
   },
   "outputs": [],
   "source": [
    "normativo_enem2019_quali = normativo_enem2019[normativo_nominal]\n",
    "normativo_enem2019_quali.head()\n"
   ]
  },
  {
   "cell_type": "code",
   "execution_count": null,
   "id": "a107ef44",
   "metadata": {
    "tags": [
     "hide_code"
    ]
   },
   "outputs": [],
   "source": [
    "plt.figure(figsize=(12, 10))\n",
    "for i, col in enumerate(normativo_enem2019_quali):\n",
    "    ax = plt.subplot(4, 2, i+1)\n",
    "    sns.countplot(data=normativo_enem2019_quali, palette='husl', x=col, ax=ax) \n",
    "plt.suptitle('Variáveis categoricas Enem 2019 Neuronormativos')\n",
    "plt.tight_layout()"
   ]
  },
  {
   "cell_type": "markdown",
   "id": "cdf1bcdd",
   "metadata": {},
   "source": [
    "Os estados de São Paulo, Minas Gerais e Bahia, foram os que receberam mais inscritos para o Enem em 2019. Destes a 59% são do gênero feminino.\n",
    "\n",
    "Quanto ao perfil social se declararam 45% pardos, 37% brancos, 12% pretos, seguidos de amarelos e indigenas. \n",
    "\n",
    "Nivel de escolaridade do pai, 27% completaram Ensino Médio, 20% possuem 4ª série/5º ano incompleto, 13.9% completaram a 4ª série/5º ano e 5% nunca estudaram. \n",
    "\n",
    "Equanto que o nivel de escolaridade das mães, 33% completaram o Ensino Médio, 14.9% não completaram a 4ª série/5º ano, 12.9% completaram o Ensino Fundamental, e 3% não estudou. \n",
    "\n",
    "\n"
   ]
  },
  {
   "cell_type": "markdown",
   "id": "9ce21056",
   "metadata": {},
   "source": [
    "## Inscritos no Enem 2019 Neurodivergentes"
   ]
  },
  {
   "cell_type": "code",
   "execution_count": null,
   "id": "cb35816c",
   "metadata": {
    "tags": [
     "hide_code"
    ]
   },
   "outputs": [],
   "source": [
    "neurodivergente_enem2019 = pd.read_csv (r'../ProjetoFinal/neurodivergente_enem2019.csv')\n",
    "neurodivergente_enem2019.head()"
   ]
  },
  {
   "cell_type": "code",
   "execution_count": null,
   "id": "f4643a8a",
   "metadata": {
    "tags": [
     "hide_code"
    ]
   },
   "outputs": [],
   "source": [
    "Idade = sts.stdev(neurodivergente_enem2019['Idade'])/sts.mean(neurodivergente_enem2019['Idade'])\n",
    "Ciências_Naturais = sts.stdev(neurodivergente_enem2019['Ciências_Naturais'])/sts.mean(neurodivergente_enem2019['Ciências_Naturais'])\n",
    "Ciências_Humanas = sts.stdev(neurodivergente_enem2019['Ciências_Humanas'])/sts.mean(neurodivergente_enem2019['Ciências_Humanas'])\n",
    "Linguagens_Códigos = sts.stdev(neurodivergente_enem2019['Linguagens_Códigos'])/sts.mean(neurodivergente_enem2019['Linguagens_Códigos'])\n",
    "Matemática = sts.stdev(neurodivergente_enem2019['Matemática'])/sts.mean(neurodivergente_enem2019['Matemática'])\n",
    "Redação = sts.stdev(neurodivergente_enem2019['Redação'])/sts.mean(neurodivergente_enem2019['Redação'])\n",
    "\n",
    "print('Idade: \\n',round(Idade,2))\n",
    "print('Ciências_Naturais: \\n',round(Ciências_Naturais,2))\n",
    "print('Ciências_Humanas : \\n',round(Ciências_Humanas,2))\n",
    "print('Linguagens_Códigos: \\n',round(Linguagens_Códigos,2))\n",
    "print('Matemática : \\n',round(Matemática,2))\n",
    "print('Redação: \\n',round(Redação,2))"
   ]
  },
  {
   "cell_type": "code",
   "execution_count": null,
   "id": "098f5517",
   "metadata": {
    "tags": [
     "hide_code"
    ]
   },
   "outputs": [],
   "source": [
    "va_nominal = ['object', 'bool']\n",
    "qualitativas = list(neurodivergente_enem2019.select_dtypes(include=va_nominal).columns)\n",
    "qualitativas"
   ]
  },
  {
   "cell_type": "code",
   "execution_count": null,
   "id": "762f5486",
   "metadata": {
    "tags": [
     "hide_code"
    ]
   },
   "outputs": [],
   "source": [
    "# Selecionar colunas com dados categoricos\n",
    "neurodivergente_qualitativas = ['UF','Neurodivergente', 'Cor_Raça', 'Gênero','Escolaridade_Pai','Escolaridade_Mãe','Computador?', 'Acesso_Internet']\n"
   ]
  },
  {
   "cell_type": "code",
   "execution_count": null,
   "id": "6f676ef6",
   "metadata": {
    "tags": [
     "hide_code"
    ]
   },
   "outputs": [],
   "source": [
    "neurodivergente_enem2019_quali = neurodivergente_enem2019[neurodivergente_qualitativas]\n",
    "neurodivergente_enem2019_quali.head()"
   ]
  },
  {
   "cell_type": "code",
   "execution_count": null,
   "id": "56643223",
   "metadata": {
    "tags": [
     "hide_code"
    ]
   },
   "outputs": [],
   "source": [
    "plt.figure(figsize=(12, 10))\n",
    "for i, col in enumerate(neurodivergente_enem2019_quali):\n",
    "    ax = plt.subplot(4, 2, i+1)\n",
    "    sns.countplot(data=neurodivergente_enem2019_quali, palette='husl', x=col, ax=ax) \n",
    "plt.suptitle('Variáveis categoricas Enem 2019 Neurodivergentes')\n",
    "ax.yaxis.set_major_formatter(mtick.PercentFormatter())\n",
    "plt.tight_layout()"
   ]
  },
  {
   "cell_type": "markdown",
   "id": "659fb3ad",
   "metadata": {},
   "source": [
    "Nesse estudo verificou-se que no Enem de 2019, 68% inscritos são portadores de Deficit de Atenção, 16.5% Deficiência Mental, 7.7% Autismo, 7% Dislexia e apenas 0.7% apresenta Discalculia. \n",
    "\n",
    "Os estados com maior número de inscritos no Enem em 2010 e declaradas neurodivergentes são Minas Gerais, São Paulo e Rio de Janeiro. Destes a 50% são do gênero masculino e 49% feminino.\n",
    "\n",
    "Quanto ao perfil social se declararam 54.7% brancos, 33.6% pardos, 6.6% pretos, seguidos 1.7% de amarelos e 0.3% de indigenas. \n",
    "\n",
    "Nivel de escolaridade do pai: 28.6% completaram Ensino Médio, 19.7% possuem Graudação, 17.5% tem Pós-graduação e 2.1% nunca estudaram. \n",
    "\n",
    "Equanto que o nivel de escolaridade das mães, 28% completaram o Ensino Médio, 27.9% tem Pós-graduação, 22.7% completou Graduação, apenas 1.5% não estudaram. \n",
    "\n",
    "\n"
   ]
  },
  {
   "cell_type": "code",
   "execution_count": null,
   "id": "cd167b73",
   "metadata": {
    "tags": [
     "hide_code"
    ]
   },
   "outputs": [],
   "source": [
    "neurodivergente_numerical = ['Idade', 'Ciências_Naturais', 'Ciências_Humanas','Linguagens_Códigos','Matemática','Redação']"
   ]
  },
  {
   "cell_type": "code",
   "execution_count": null,
   "id": "9b9686aa",
   "metadata": {
    "tags": [
     "hide_code"
    ]
   },
   "outputs": [],
   "source": [
    "neurodivergente_enem2019[neurodivergente_numerical].describe().round(2).T"
   ]
  },
  {
   "cell_type": "code",
   "execution_count": null,
   "id": "795ed359",
   "metadata": {
    "tags": [
     "hide_code"
    ]
   },
   "outputs": [],
   "source": [
    "neurodivergente_enem2019_quali = neurodivergente_enem2019[neurodivergente_qualitativas]\n",
    "neurodivergente_enem2019_quali.head()"
   ]
  },
  {
   "cell_type": "code",
   "execution_count": null,
   "id": "68b23276",
   "metadata": {
    "tags": [
     "hide_code"
    ]
   },
   "outputs": [],
   "source": [
    "va_quantitativa = ['float64', 'int64']\n",
    "quantitativas = list(neurodivergente_enem2019.select_dtypes(include=va_quantitativa).columns)\n",
    "quantitativas"
   ]
  },
  {
   "cell_type": "code",
   "execution_count": null,
   "id": "e60a81c2",
   "metadata": {
    "tags": [
     "hide_code"
    ]
   },
   "outputs": [],
   "source": [
    "neurodivergente_quantitativas = ['Idade', 'Ciências_Naturais', 'Ciências_Humanas','Linguagens_Códigos','Matemática','Redação']\n"
   ]
  },
  {
   "cell_type": "code",
   "execution_count": null,
   "id": "65838062",
   "metadata": {
    "tags": [
     "hide_code"
    ]
   },
   "outputs": [],
   "source": [
    "neurodivergente_enem2019_quanti = neurodivergente_enem2019[neurodivergente_quantitativas]"
   ]
  },
  {
   "cell_type": "code",
   "execution_count": null,
   "id": "6af9bb2a",
   "metadata": {},
   "outputs": [],
   "source": [
    "\n"
   ]
  },
  {
   "cell_type": "code",
   "execution_count": null,
   "id": "fc5e4146",
   "metadata": {
    "scrolled": false,
    "tags": [
     "hide_code"
    ]
   },
   "outputs": [],
   "source": [
    "neurodivergente_enem2019_quanti[['Idade','Ciências_Naturais','Ciências_Humanas','Linguagens_Códigos','Matemática','Redação']].hist(\n",
    "    bins=10,\n",
    "    figsize=(10, 8),\n",
    "    grid = False,\n",
    "    rwidth = 0.9,\n",
    ")\n",
    "plt.show()\n"
   ]
  },
  {
   "cell_type": "markdown",
   "id": "b8db2647",
   "metadata": {},
   "source": [
    "Com relação as notas, os neurodivergentes não diferem dos normativos, sendo que as notas se concentram ao redor da média de 500. Porém, entre os neurodivergentes a média da nota de Redação foi relativamente maior para os que se declaram portadores de Defict de Atenção.  "
   ]
  },
  {
   "cell_type": "markdown",
   "id": "16631360",
   "metadata": {},
   "source": [
    "## Correlação \n"
   ]
  },
  {
   "cell_type": "code",
   "execution_count": null,
   "id": "d3006a25",
   "metadata": {
    "tags": [
     "hide_code"
    ]
   },
   "outputs": [],
   "source": [
    "va_correlacao_diverg = neurodivergente_enem2019 [['Neurodivergente','Idade', 'Ciências_Naturais', 'Ciências_Humanas','Linguagens_Códigos','Matemática','Redação']]\n",
    "va_correlacao_diverg.corr()"
   ]
  },
  {
   "cell_type": "code",
   "execution_count": null,
   "id": "050e0b29",
   "metadata": {
    "tags": [
     "hide_code"
    ]
   },
   "outputs": [],
   "source": [
    "plt.figure(figsize=(10,7))\n",
    "sns.pairplot(data=va_correlacao_diverg, hue=\"Neurodivergente\")"
   ]
  },
  {
   "cell_type": "code",
   "execution_count": null,
   "id": "01adf03d",
   "metadata": {
    "tags": [
     "hide_code"
    ]
   },
   "outputs": [],
   "source": [
    "plt.figure(figsize=(20,5))\n",
    "plt.title('Correlação entre as notas para Neurodivergentes', size=15)\n",
    "sns.heatmap(va_correlacao_diverg.corr(), cmap='crest', center=0, annot=True)"
   ]
  },
  {
   "cell_type": "code",
   "execution_count": null,
   "id": "a1ddb2cd",
   "metadata": {
    "tags": [
     "hide_code"
    ]
   },
   "outputs": [],
   "source": [
    "va_correlacao_normativo = normativo_enem2019[['Idade', 'Ciências_Naturais', 'Ciências_Humanas','Linguagens_Códigos','Matemática','Redação']]\n",
    "va_correlacao_normativo.corr()"
   ]
  },
  {
   "cell_type": "code",
   "execution_count": null,
   "id": "6112526a",
   "metadata": {
    "tags": [
     "hide_code"
    ]
   },
   "outputs": [],
   "source": [
    "plt.figure(figsize=(20,5))\n",
    "plt.title('Correlação entre as notas para Neuronormativos', size=15)\n",
    "sns.heatmap(va_correlacao_normativo.corr(), cmap='rocket', center=0, annot=True)"
   ]
  },
  {
   "cell_type": "markdown",
   "id": "db6e99bf",
   "metadata": {},
   "source": [
    "Na análise de correlação das notas dos inscritos neurodivergentes, percebe-se uma correlação mais forte entre Ciencias Naturais e Matemática, Linguagens e Código, e Ciências Humanas. \n",
    "\n",
    "Para neuronormativos a correlação mais forte é entre Linguagens e Códigos e Ciências Humanas. "
   ]
  },
  {
   "cell_type": "markdown",
   "id": "1f40dec5",
   "metadata": {},
   "source": [
    "# Referências "
   ]
  },
  {
   "cell_type": "markdown",
   "id": "778dec70",
   "metadata": {},
   "source": [
    "portal.mec.gov.br/seesp/arquivos/pdf/brasil.pdf\n",
    "\n",
    "https://download.inep.gov.br/publicacoes/institucionais/estatisticas_e_indicadores/notas_estatisticas_censo_da_educacao_basica_2019.pdf\n",
    "\n",
    "https://download.inep.gov.br/publicacoes/institucionais/estatisticas_e_indicadores/notas_estatisticas_censo_da_educacao_basica_2019.pdf\n",
    "\n",
    "https://querobolsa.com.br/revista/numero-de-estudantes-com-deficiencia-cresce-no-ensino-superior-mas-permanencia-esbarra-na-falta-de-acessibilidade"
   ]
  }
 ],
 "metadata": {
  "kernelspec": {
   "display_name": "Python 3 (ipykernel)",
   "language": "python",
   "name": "python3"
  },
  "language_info": {
   "codemirror_mode": {
    "name": "ipython",
    "version": 3
   },
   "file_extension": ".py",
   "mimetype": "text/x-python",
   "name": "python",
   "nbconvert_exporter": "python",
   "pygments_lexer": "ipython3",
   "version": "3.10.5"
  }
 },
 "nbformat": 4,
 "nbformat_minor": 5
}
